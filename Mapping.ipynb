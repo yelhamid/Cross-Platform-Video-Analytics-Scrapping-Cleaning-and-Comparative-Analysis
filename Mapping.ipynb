{
  "cells": [
    {
      "cell_type": "code",
      "execution_count": 65,
      "metadata": {
        "id": "MPpFm99GpFj8"
      },
      "outputs": [],
      "source": [
        "import pandas as pd\n",
        "\n",
        "# Charger les fichiers Excel dans des DataFrames\n",
        "df_twitter = pd.read_excel('twitter_hespress.xlsx')\n",
        "df_facebook = pd.read_excel('hespress_18_11_2023_facebook.xlsx')\n",
        "df_youtube = pd.read_excel('Hespress.xlsx')\n",
        "# df_instagram = pd.read_excel('instagram_data.xlsx')"
      ]
    },
    {
      "cell_type": "code",
      "execution_count": 23,
      "metadata": {
        "colab": {
          "base_uri": "https://localhost:8080/",
          "height": 35
        },
        "id": "SfGDWHZUpFj-",
        "outputId": "185aaaa4-6b6a-4421-eb35-8df243c5f9c6"
      },
      "outputs": [
        {
          "output_type": "execute_result",
          "data": {
            "text/plain": [
              "'2023-11-18T15:02:58.000Z'"
            ],
            "application/vnd.google.colaboratory.intrinsic+json": {
              "type": "string"
            }
          },
          "metadata": {},
          "execution_count": 23
        }
      ],
      "source": [
        "df_twitter['Date publication'][0]\n",
        "# df_twitter"
      ]
    },
    {
      "cell_type": "code",
      "execution_count": 24,
      "metadata": {
        "colab": {
          "base_uri": "https://localhost:8080/"
        },
        "id": "MewEgIAipFj_",
        "outputId": "5a6430b6-9bb5-4e11-a70d-0ac7e8469f97"
      },
      "outputs": [
        {
          "output_type": "stream",
          "name": "stdout",
          "text": [
            "['titre', 'likes_count', 'shares_count', 'Nbcomments_', 'comments', 'Date publication', 'duration', 'Vue']\n"
          ]
        }
      ],
      "source": [
        "# Assuming df is your DataFrame\n",
        "column_names_twitter = df_twitter.columns.tolist()\n",
        "\n",
        "# Print or use the column names as needed\n",
        "print(column_names_twitter)\n"
      ]
    },
    {
      "cell_type": "code",
      "execution_count": 66,
      "metadata": {
        "colab": {
          "base_uri": "https://localhost:8080/"
        },
        "id": "QFuF_JazpFj_",
        "outputId": "94e7cbb8-8468-4a88-f0b3-2c8b62b608f5"
      },
      "outputs": [
        {
          "output_type": "stream",
          "name": "stdout",
          "text": [
            "['title', 'Likes', 'shares_count', 'comment_number', 'comments', 'date_published', 'duration', 'Vues']\n"
          ]
        }
      ],
      "source": [
        "df_twitter.rename(columns={\n",
        "    'titre': 'title',\n",
        "    'likes_count': 'Likes',\n",
        "    'shares_count': 'shares_count',\n",
        "    'Nbcomments_': 'comment_number',\n",
        "    'comments': 'comments',\n",
        "    'Date publication':'date_published',\n",
        "    'Duration': 'duration',\n",
        "    'Vue': 'Vues',\n",
        "}, inplace=True)\n",
        "column_names_twitter = df_twitter.columns.tolist()\n",
        "print(column_names_twitter)"
      ]
    },
    {
      "cell_type": "code",
      "execution_count": 26,
      "metadata": {
        "id": "lt5llVNopFkA"
      },
      "outputs": [],
      "source": [
        "# df_twitter['Date publication']=pd.to_datetime(df_twitter['Date publication'])"
      ]
    },
    {
      "cell_type": "code",
      "execution_count": 27,
      "metadata": {
        "colab": {
          "base_uri": "https://localhost:8080/"
        },
        "id": "dlrI2MbMpFkA",
        "outputId": "07a3ba54-fa75-480b-a24d-43c5d1d0e5bb"
      },
      "outputs": [
        {
          "output_type": "execute_result",
          "data": {
            "text/plain": [
              "Timestamp('2023-11-18 00:00:00')"
            ]
          },
          "metadata": {},
          "execution_count": 27
        }
      ],
      "source": [
        "df_facebook['Date_exacte'][0]\n",
        "# df_facebook"
      ]
    },
    {
      "cell_type": "code",
      "execution_count": 28,
      "metadata": {
        "colab": {
          "base_uri": "https://localhost:8080/"
        },
        "id": "EDkhhMrApFkA",
        "outputId": "cbcb5bab-ba90-4dd4-acbc-48385a0ad3f1"
      },
      "outputs": [
        {
          "output_type": "stream",
          "name": "stdout",
          "text": [
            "['Titre', 'Vues', 'Date', 'Durée', 'Likes', 'Lien', 'Date_exacte', 'Heure', 'Nombre de commentaire', 'Commentaires']\n"
          ]
        }
      ],
      "source": [
        "# Assuming df is your DataFrame\n",
        "column_names_facebook = df_facebook.columns.tolist()\n",
        "\n",
        "# Print or use the column names as needed\n",
        "print(column_names_facebook)\n"
      ]
    },
    {
      "cell_type": "code",
      "execution_count": 29,
      "metadata": {
        "colab": {
          "base_uri": "https://localhost:8080/"
        },
        "id": "eY2p9z1ipFkB",
        "outputId": "d83a9267-f4ab-49e2-d222-99e4d7cdb0c1"
      },
      "outputs": [
        {
          "output_type": "stream",
          "name": "stdout",
          "text": [
            "['title', 'Vues', 'Date', 'duration', 'Likes', 'link', 'date_published', 'Heure', 'comment_number', 'comments']\n"
          ]
        }
      ],
      "source": [
        "df_facebook.rename(columns={\n",
        "    'Titre': 'title',\n",
        "    'Date_exacte': 'date_published',\n",
        "    'Durée': 'duration',\n",
        "    'likes': 'Likes',\n",
        "    'Vues': 'Vues',\n",
        "    'Lien':'link',\n",
        "    'Nombre de commentaire': 'comment_number',\n",
        "    'Commentaires': 'comments'\n",
        "}, inplace=True)\n",
        "column_names_facebook = df_facebook.columns.tolist()\n",
        "print(column_names_facebook)"
      ]
    },
    {
      "cell_type": "code",
      "execution_count": 30,
      "metadata": {
        "colab": {
          "base_uri": "https://localhost:8080/"
        },
        "id": "FgIdPoqspFkC",
        "outputId": "17b502aa-37f0-4144-9c21-df0a27a5fe17"
      },
      "outputs": [
        {
          "output_type": "execute_result",
          "data": {
            "text/plain": [
              "Timestamp('2023-11-24 22:59:34')"
            ]
          },
          "metadata": {},
          "execution_count": 30
        }
      ],
      "source": [
        "df_youtube['video_published'][0]\n",
        "# df_youtube"
      ]
    },
    {
      "cell_type": "code",
      "execution_count": 31,
      "metadata": {
        "colab": {
          "base_uri": "https://localhost:8080/"
        },
        "id": "zDX-wGlPpFkC",
        "outputId": "a64ee67f-710a-47e6-a474-89acf6926d74"
      },
      "outputs": [
        {
          "output_type": "stream",
          "name": "stdout",
          "text": [
            "['captions', 'video_url', 'views', 'likes', 'comment_number', 'title', 'video_published', 'description', 'video_tags', 'seconds_duration', 'video_topics', 'comments']\n"
          ]
        }
      ],
      "source": [
        "# Assuming df is your DataFrame\n",
        "column_names_youtube = df_youtube.columns.tolist()\n",
        "\n",
        "# Print or use the column names as needed\n",
        "print(column_names_youtube)\n"
      ]
    },
    {
      "cell_type": "code",
      "execution_count": 32,
      "metadata": {
        "colab": {
          "base_uri": "https://localhost:8080/"
        },
        "id": "nkkLZPSJpFkC",
        "outputId": "764d6c1b-df5d-453a-e125-f830947d0f91"
      },
      "outputs": [
        {
          "output_type": "stream",
          "name": "stdout",
          "text": [
            "['captions', 'link', 'Vues', 'Likes', 'comment_number', 'title', 'date_published', 'description', 'video_tags', 'duration', 'video_topics', 'comments']\n"
          ]
        }
      ],
      "source": [
        "df_youtube.rename(columns={\n",
        "    'title': 'title',\n",
        "    'video_published': 'date_published',\n",
        "    'seconds_duration': 'duration',\n",
        "    'likes': 'Likes',\n",
        "    'views': 'Vues',\n",
        "    'video_url':'link',\n",
        "    'comment_number': 'comment_number',\n",
        "    'comments': 'comments'\n",
        "}, inplace=True)\n",
        "column_names_youtube = df_youtube.columns.tolist()\n",
        "print(column_names_youtube)"
      ]
    },
    {
      "cell_type": "code",
      "execution_count": 67,
      "metadata": {
        "colab": {
          "base_uri": "https://localhost:8080/",
          "height": 1000
        },
        "id": "Pymf9zK4pFkD",
        "outputId": "0fa453b2-efb4-4f81-cf47-84f4418075f4"
      },
      "outputs": [
        {
          "output_type": "execute_result",
          "data": {
            "text/plain": [
              "                                                title  Likes  shares_count  \\\n",
              "0   متظاهرون أمام البيت الأبيض يدعون بايدن لإيقاف ...     12             3   \n",
              "1   منشورات إسرائيلية تطلب من سكان غزة الإبلاغ عن ...     15             7   \n",
              "2   وزارة العدل الروسية ترفع طلبا إلى المحكمة العل...     28             1   \n",
              "3   عاصمة الأنوار.. ضمن أفضل الوجهات السياحية الاف...     22             0   \n",
              "4   البرلمان يستدعي مدير أخبار وكالة الأنباء الفرن...      6             2   \n",
              "5   الفيضانات تغرق الشوارع عقب أمطار غزيرة في القر...      3             0   \n",
              "6   لم تنحته أياد بشرية بالكامل.. دراسة تكشف معطيا...     12             2   \n",
              "7   فضيحة سياسية في اسكتلندا بعد مشاهدة ابن وزير ا...     55            16   \n",
              "8   عشرات الضحايا في مجزرة إسرائيلية جديدة همت مدر...     22            20   \n",
              "9   جراء القصف الإسرائيلي.. ما قصة الأسير الذي مات...     13             2   \n",
              "10  احتجاج في منتدى “ميدايز” بطنجة ضد مداخلات أجنب...   1000           318   \n",
              "11  رفع علم فلسطين على برج \"بيزا\"  في إيطاليا تضام...     62             8   \n",
              "12  .\\n\"بوركيني\" بدل \"بيكيني\" ومرحبا بالأمهات… تغي...     10             0   \n",
              "13  فلسطيني يعزف ألحانا حزينة بالناي على أنقاض منز...     25             8   \n",
              "14  استمرار القصف الإسرائيلي يدفع أسرا فلسطينية إل...      7             1   \n",
              "15  شركات من بينها \"آبل\" تسحب إعلاناتها من \"إكس\" إ...     17             1   \n",
              "\n",
              "    comment_number                                           comments  \\\n",
              "0                1                                                 []   \n",
              "1               18                       ['', '', '', '', '', '', '']   \n",
              "2                1             ['أصبحت روسيا مسلمة أكثر من المسلمين']   \n",
              "3                2  ['لو شاهدوا دوار الحاجَة و جواره  لغيروا رأيهم...   \n",
              "4                3                                                 []   \n",
              "5                0                                                 []   \n",
              "6                3                      ['اسكت مش طلع بتاع  قراقيرو']   \n",
              "7               26  ['هاذي هي الدولة وإلا فلا ، ماشي بحال شي عصابا...   \n",
              "8                8  ['هذه مناسبة تقطعوا العلاقات مع هذا الكيان الد...   \n",
              "9                8  ['#تعليم_الأجيال_قبل_المونديال', 'و لايظلم ربك...   \n",
              "10             171  ['كلامه صحيح 200%', 'خاصنا نعرفو الجهة المنضمة...   \n",
              "11               2  ['و رفضا للمجازر التي يقون بها المحتل الصهيوني...   \n",
              "12               0                                                 []   \n",
              "13              10  ['@DavidGovrin', 'اوصفهم بكلمة', 'الجزائريين……...   \n",
              "14               3  ['#عاجل يا سكان غزة، وخاصة سكان شمال القطاع:\\n...   \n",
              "15              10  ['بسبب عدم حجبها مجازر إسرائيل...', 'لا زال ال...   \n",
              "\n",
              "              date_published  duration    Vues  \\\n",
              "0  2023-11-18 15:02:58+00:00        82   2 252   \n",
              "1  2023-11-18 13:05:09+00:00        34   4 794   \n",
              "2  2023-11-18 17:00:00+00:00        53   3 917   \n",
              "3  2023-11-18 09:00:05+00:00        78   2 469   \n",
              "4  2023-11-18 00:12:56+00:00        59   2 791   \n",
              "5  2023-11-18 18:00:01+00:00        72   2 387   \n",
              "6  2023-11-18 12:00:18+00:00        64   4 577   \n",
              "7  2023-11-18 21:00:01+00:00        59   22,3    \n",
              "8  2023-11-18 14:41:27+00:00       105   4 636   \n",
              "9  2023-11-18 16:00:00+00:00        64   3 760   \n",
              "10 2023-11-18 15:25:00+00:00       122  100,1    \n",
              "11 2023-11-18 18:30:00+00:00        46   3 946   \n",
              "12 2023-11-18 17:30:00+00:00       118   4 453   \n",
              "13 2023-11-18 12:33:53+00:00        57   2 928   \n",
              "14 2023-11-18 10:58:04+00:00        31   1 926   \n",
              "15 2023-11-18 19:00:00+00:00        56   3 803   \n",
              "\n",
              "                                     cleaned_comments  \\\n",
              "0                                                       \n",
              "1                                                       \n",
              "2                                روسيا مسلمة المسلمين   \n",
              "3   شاهدوا دوار جواره لغيروا رأيهم بخصوص عاصمة الأ...   \n",
              "4                                                       \n",
              "5                                                       \n",
              "6                                 مش طلع بتاع قراقيرو   \n",
              "7   الدولة وإلا ماشي بحال شي عصابات واكلين الرزق د...   \n",
              "8   مناسبة تقطعوا العلاقات الكيان الدموي résidence...   \n",
              "9   لايظلم ربك أسير المرجوا التدقيق اختطفت اطفال و...   \n",
              "10  صحيح نعرفو الجهة المنضمة جابتهم وعلاش جابتش مغ...   \n",
              "11  رفضا للمجازر يقون المحتل الصهيوني اماراتية صهي...   \n",
              "12                                                      \n",
              "13  davidgovrin بكلمة هندسة الجوع والطوابير تحرير ...   \n",
              "14  عاجل سكان وخاصة سكان القطاع الى سكان أحياء جبا...   \n",
              "15  عدم حجبها مجازر إسرائيل زال المطبع يكرر معاداة...   \n",
              "\n",
              "                                        title_cleaned  \n",
              "0   متظاهرون أمام البيت الأبيض يدعون بايدن لإيقاف ...  \n",
              "1   منشورات إسرائيلية تطلب من سكان غزة الإبلاغ عن ...  \n",
              "2   وزارة العدل الروسية ترفع طلبا إلى المحكمة العل...  \n",
              "3   عاصمة الأنوار.. ضمن أفضل الوجهات السياحية الاف...  \n",
              "4   البرلمان يستدعي مدير أخبار وكالة الأنباء الفرن...  \n",
              "5   الفيضانات تغرق الشوارع عقب أمطار غزيرة في القر...  \n",
              "6   لم تنحته أياد بشرية بالكامل.. دراسة تكشف معطيا...  \n",
              "7   فضيحة سياسية في اسكتلندا بعد مشاهدة ابن وزير ا...  \n",
              "8   عشرات الضحايا في مجزرة إسرائيلية جديدة همت مدر...  \n",
              "9   جراء القصف الإسرائيلي.. ما قصة الأسير الذي مات...  \n",
              "10  احتجاج في منتدى “ميدايز” بطنجة ضد مداخلات أجنب...  \n",
              "11  رفع علم فلسطين على برج \"بيزا\"  في إيطاليا تضام...  \n",
              "12  .\\n\"بوركيني\" بدل \"بيكيني\" ومرحبا بالأمهات… تغي...  \n",
              "13  فلسطيني يعزف ألحانا حزينة بالناي على أنقاض منز...  \n",
              "14  استمرار القصف الإسرائيلي يدفع أسرا فلسطينية إل...  \n",
              "15  شركات من بينها \"آبل\" تسحب إعلاناتها من \"إكس\" إ...  "
            ],
            "text/html": [
              "\n",
              "  <div id=\"df-5e384988-e743-4aad-8b0f-fe4b6bd330f0\" class=\"colab-df-container\">\n",
              "    <div>\n",
              "<style scoped>\n",
              "    .dataframe tbody tr th:only-of-type {\n",
              "        vertical-align: middle;\n",
              "    }\n",
              "\n",
              "    .dataframe tbody tr th {\n",
              "        vertical-align: top;\n",
              "    }\n",
              "\n",
              "    .dataframe thead th {\n",
              "        text-align: right;\n",
              "    }\n",
              "</style>\n",
              "<table border=\"1\" class=\"dataframe\">\n",
              "  <thead>\n",
              "    <tr style=\"text-align: right;\">\n",
              "      <th></th>\n",
              "      <th>title</th>\n",
              "      <th>Likes</th>\n",
              "      <th>shares_count</th>\n",
              "      <th>comment_number</th>\n",
              "      <th>comments</th>\n",
              "      <th>date_published</th>\n",
              "      <th>duration</th>\n",
              "      <th>Vues</th>\n",
              "      <th>cleaned_comments</th>\n",
              "      <th>title_cleaned</th>\n",
              "    </tr>\n",
              "  </thead>\n",
              "  <tbody>\n",
              "    <tr>\n",
              "      <th>0</th>\n",
              "      <td>متظاهرون أمام البيت الأبيض يدعون بايدن لإيقاف ...</td>\n",
              "      <td>12</td>\n",
              "      <td>3</td>\n",
              "      <td>1</td>\n",
              "      <td>[]</td>\n",
              "      <td>2023-11-18 15:02:58+00:00</td>\n",
              "      <td>82</td>\n",
              "      <td>2 252</td>\n",
              "      <td></td>\n",
              "      <td>متظاهرون أمام البيت الأبيض يدعون بايدن لإيقاف ...</td>\n",
              "    </tr>\n",
              "    <tr>\n",
              "      <th>1</th>\n",
              "      <td>منشورات إسرائيلية تطلب من سكان غزة الإبلاغ عن ...</td>\n",
              "      <td>15</td>\n",
              "      <td>7</td>\n",
              "      <td>18</td>\n",
              "      <td>['', '', '', '', '', '', '']</td>\n",
              "      <td>2023-11-18 13:05:09+00:00</td>\n",
              "      <td>34</td>\n",
              "      <td>4 794</td>\n",
              "      <td></td>\n",
              "      <td>منشورات إسرائيلية تطلب من سكان غزة الإبلاغ عن ...</td>\n",
              "    </tr>\n",
              "    <tr>\n",
              "      <th>2</th>\n",
              "      <td>وزارة العدل الروسية ترفع طلبا إلى المحكمة العل...</td>\n",
              "      <td>28</td>\n",
              "      <td>1</td>\n",
              "      <td>1</td>\n",
              "      <td>['أصبحت روسيا مسلمة أكثر من المسلمين']</td>\n",
              "      <td>2023-11-18 17:00:00+00:00</td>\n",
              "      <td>53</td>\n",
              "      <td>3 917</td>\n",
              "      <td>روسيا مسلمة المسلمين</td>\n",
              "      <td>وزارة العدل الروسية ترفع طلبا إلى المحكمة العل...</td>\n",
              "    </tr>\n",
              "    <tr>\n",
              "      <th>3</th>\n",
              "      <td>عاصمة الأنوار.. ضمن أفضل الوجهات السياحية الاف...</td>\n",
              "      <td>22</td>\n",
              "      <td>0</td>\n",
              "      <td>2</td>\n",
              "      <td>['لو شاهدوا دوار الحاجَة و جواره  لغيروا رأيهم...</td>\n",
              "      <td>2023-11-18 09:00:05+00:00</td>\n",
              "      <td>78</td>\n",
              "      <td>2 469</td>\n",
              "      <td>شاهدوا دوار جواره لغيروا رأيهم بخصوص عاصمة الأ...</td>\n",
              "      <td>عاصمة الأنوار.. ضمن أفضل الوجهات السياحية الاف...</td>\n",
              "    </tr>\n",
              "    <tr>\n",
              "      <th>4</th>\n",
              "      <td>البرلمان يستدعي مدير أخبار وكالة الأنباء الفرن...</td>\n",
              "      <td>6</td>\n",
              "      <td>2</td>\n",
              "      <td>3</td>\n",
              "      <td>[]</td>\n",
              "      <td>2023-11-18 00:12:56+00:00</td>\n",
              "      <td>59</td>\n",
              "      <td>2 791</td>\n",
              "      <td></td>\n",
              "      <td>البرلمان يستدعي مدير أخبار وكالة الأنباء الفرن...</td>\n",
              "    </tr>\n",
              "    <tr>\n",
              "      <th>5</th>\n",
              "      <td>الفيضانات تغرق الشوارع عقب أمطار غزيرة في القر...</td>\n",
              "      <td>3</td>\n",
              "      <td>0</td>\n",
              "      <td>0</td>\n",
              "      <td>[]</td>\n",
              "      <td>2023-11-18 18:00:01+00:00</td>\n",
              "      <td>72</td>\n",
              "      <td>2 387</td>\n",
              "      <td></td>\n",
              "      <td>الفيضانات تغرق الشوارع عقب أمطار غزيرة في القر...</td>\n",
              "    </tr>\n",
              "    <tr>\n",
              "      <th>6</th>\n",
              "      <td>لم تنحته أياد بشرية بالكامل.. دراسة تكشف معطيا...</td>\n",
              "      <td>12</td>\n",
              "      <td>2</td>\n",
              "      <td>3</td>\n",
              "      <td>['اسكت مش طلع بتاع  قراقيرو']</td>\n",
              "      <td>2023-11-18 12:00:18+00:00</td>\n",
              "      <td>64</td>\n",
              "      <td>4 577</td>\n",
              "      <td>مش طلع بتاع قراقيرو</td>\n",
              "      <td>لم تنحته أياد بشرية بالكامل.. دراسة تكشف معطيا...</td>\n",
              "    </tr>\n",
              "    <tr>\n",
              "      <th>7</th>\n",
              "      <td>فضيحة سياسية في اسكتلندا بعد مشاهدة ابن وزير ا...</td>\n",
              "      <td>55</td>\n",
              "      <td>16</td>\n",
              "      <td>26</td>\n",
              "      <td>['هاذي هي الدولة وإلا فلا ، ماشي بحال شي عصابا...</td>\n",
              "      <td>2023-11-18 21:00:01+00:00</td>\n",
              "      <td>59</td>\n",
              "      <td>22,3</td>\n",
              "      <td>الدولة وإلا ماشي بحال شي عصابات واكلين الرزق د...</td>\n",
              "      <td>فضيحة سياسية في اسكتلندا بعد مشاهدة ابن وزير ا...</td>\n",
              "    </tr>\n",
              "    <tr>\n",
              "      <th>8</th>\n",
              "      <td>عشرات الضحايا في مجزرة إسرائيلية جديدة همت مدر...</td>\n",
              "      <td>22</td>\n",
              "      <td>20</td>\n",
              "      <td>8</td>\n",
              "      <td>['هذه مناسبة تقطعوا العلاقات مع هذا الكيان الد...</td>\n",
              "      <td>2023-11-18 14:41:27+00:00</td>\n",
              "      <td>105</td>\n",
              "      <td>4 636</td>\n",
              "      <td>مناسبة تقطعوا العلاقات الكيان الدموي résidence...</td>\n",
              "      <td>عشرات الضحايا في مجزرة إسرائيلية جديدة همت مدر...</td>\n",
              "    </tr>\n",
              "    <tr>\n",
              "      <th>9</th>\n",
              "      <td>جراء القصف الإسرائيلي.. ما قصة الأسير الذي مات...</td>\n",
              "      <td>13</td>\n",
              "      <td>2</td>\n",
              "      <td>8</td>\n",
              "      <td>['#تعليم_الأجيال_قبل_المونديال', 'و لايظلم ربك...</td>\n",
              "      <td>2023-11-18 16:00:00+00:00</td>\n",
              "      <td>64</td>\n",
              "      <td>3 760</td>\n",
              "      <td>لايظلم ربك أسير المرجوا التدقيق اختطفت اطفال و...</td>\n",
              "      <td>جراء القصف الإسرائيلي.. ما قصة الأسير الذي مات...</td>\n",
              "    </tr>\n",
              "    <tr>\n",
              "      <th>10</th>\n",
              "      <td>احتجاج في منتدى “ميدايز” بطنجة ضد مداخلات أجنب...</td>\n",
              "      <td>1000</td>\n",
              "      <td>318</td>\n",
              "      <td>171</td>\n",
              "      <td>['كلامه صحيح 200%', 'خاصنا نعرفو الجهة المنضمة...</td>\n",
              "      <td>2023-11-18 15:25:00+00:00</td>\n",
              "      <td>122</td>\n",
              "      <td>100,1</td>\n",
              "      <td>صحيح نعرفو الجهة المنضمة جابتهم وعلاش جابتش مغ...</td>\n",
              "      <td>احتجاج في منتدى “ميدايز” بطنجة ضد مداخلات أجنب...</td>\n",
              "    </tr>\n",
              "    <tr>\n",
              "      <th>11</th>\n",
              "      <td>رفع علم فلسطين على برج \"بيزا\"  في إيطاليا تضام...</td>\n",
              "      <td>62</td>\n",
              "      <td>8</td>\n",
              "      <td>2</td>\n",
              "      <td>['و رفضا للمجازر التي يقون بها المحتل الصهيوني...</td>\n",
              "      <td>2023-11-18 18:30:00+00:00</td>\n",
              "      <td>46</td>\n",
              "      <td>3 946</td>\n",
              "      <td>رفضا للمجازر يقون المحتل الصهيوني اماراتية صهي...</td>\n",
              "      <td>رفع علم فلسطين على برج \"بيزا\"  في إيطاليا تضام...</td>\n",
              "    </tr>\n",
              "    <tr>\n",
              "      <th>12</th>\n",
              "      <td>.\\n\"بوركيني\" بدل \"بيكيني\" ومرحبا بالأمهات… تغي...</td>\n",
              "      <td>10</td>\n",
              "      <td>0</td>\n",
              "      <td>0</td>\n",
              "      <td>[]</td>\n",
              "      <td>2023-11-18 17:30:00+00:00</td>\n",
              "      <td>118</td>\n",
              "      <td>4 453</td>\n",
              "      <td></td>\n",
              "      <td>.\\n\"بوركيني\" بدل \"بيكيني\" ومرحبا بالأمهات… تغي...</td>\n",
              "    </tr>\n",
              "    <tr>\n",
              "      <th>13</th>\n",
              "      <td>فلسطيني يعزف ألحانا حزينة بالناي على أنقاض منز...</td>\n",
              "      <td>25</td>\n",
              "      <td>8</td>\n",
              "      <td>10</td>\n",
              "      <td>['@DavidGovrin', 'اوصفهم بكلمة', 'الجزائريين……...</td>\n",
              "      <td>2023-11-18 12:33:53+00:00</td>\n",
              "      <td>57</td>\n",
              "      <td>2 928</td>\n",
              "      <td>davidgovrin بكلمة هندسة الجوع والطوابير تحرير ...</td>\n",
              "      <td>فلسطيني يعزف ألحانا حزينة بالناي على أنقاض منز...</td>\n",
              "    </tr>\n",
              "    <tr>\n",
              "      <th>14</th>\n",
              "      <td>استمرار القصف الإسرائيلي يدفع أسرا فلسطينية إل...</td>\n",
              "      <td>7</td>\n",
              "      <td>1</td>\n",
              "      <td>3</td>\n",
              "      <td>['#عاجل يا سكان غزة، وخاصة سكان شمال القطاع:\\n...</td>\n",
              "      <td>2023-11-18 10:58:04+00:00</td>\n",
              "      <td>31</td>\n",
              "      <td>1 926</td>\n",
              "      <td>عاجل سكان وخاصة سكان القطاع الى سكان أحياء جبا...</td>\n",
              "      <td>استمرار القصف الإسرائيلي يدفع أسرا فلسطينية إل...</td>\n",
              "    </tr>\n",
              "    <tr>\n",
              "      <th>15</th>\n",
              "      <td>شركات من بينها \"آبل\" تسحب إعلاناتها من \"إكس\" إ...</td>\n",
              "      <td>17</td>\n",
              "      <td>1</td>\n",
              "      <td>10</td>\n",
              "      <td>['بسبب عدم حجبها مجازر إسرائيل...', 'لا زال ال...</td>\n",
              "      <td>2023-11-18 19:00:00+00:00</td>\n",
              "      <td>56</td>\n",
              "      <td>3 803</td>\n",
              "      <td>عدم حجبها مجازر إسرائيل زال المطبع يكرر معاداة...</td>\n",
              "      <td>شركات من بينها \"آبل\" تسحب إعلاناتها من \"إكس\" إ...</td>\n",
              "    </tr>\n",
              "  </tbody>\n",
              "</table>\n",
              "</div>\n",
              "    <div class=\"colab-df-buttons\">\n",
              "\n",
              "  <div class=\"colab-df-container\">\n",
              "    <button class=\"colab-df-convert\" onclick=\"convertToInteractive('df-5e384988-e743-4aad-8b0f-fe4b6bd330f0')\"\n",
              "            title=\"Convert this dataframe to an interactive table.\"\n",
              "            style=\"display:none;\">\n",
              "\n",
              "  <svg xmlns=\"http://www.w3.org/2000/svg\" height=\"24px\" viewBox=\"0 -960 960 960\">\n",
              "    <path d=\"M120-120v-720h720v720H120Zm60-500h600v-160H180v160Zm220 220h160v-160H400v160Zm0 220h160v-160H400v160ZM180-400h160v-160H180v160Zm440 0h160v-160H620v160ZM180-180h160v-160H180v160Zm440 0h160v-160H620v160Z\"/>\n",
              "  </svg>\n",
              "    </button>\n",
              "\n",
              "  <style>\n",
              "    .colab-df-container {\n",
              "      display:flex;\n",
              "      gap: 12px;\n",
              "    }\n",
              "\n",
              "    .colab-df-convert {\n",
              "      background-color: #E8F0FE;\n",
              "      border: none;\n",
              "      border-radius: 50%;\n",
              "      cursor: pointer;\n",
              "      display: none;\n",
              "      fill: #1967D2;\n",
              "      height: 32px;\n",
              "      padding: 0 0 0 0;\n",
              "      width: 32px;\n",
              "    }\n",
              "\n",
              "    .colab-df-convert:hover {\n",
              "      background-color: #E2EBFA;\n",
              "      box-shadow: 0px 1px 2px rgba(60, 64, 67, 0.3), 0px 1px 3px 1px rgba(60, 64, 67, 0.15);\n",
              "      fill: #174EA6;\n",
              "    }\n",
              "\n",
              "    .colab-df-buttons div {\n",
              "      margin-bottom: 4px;\n",
              "    }\n",
              "\n",
              "    [theme=dark] .colab-df-convert {\n",
              "      background-color: #3B4455;\n",
              "      fill: #D2E3FC;\n",
              "    }\n",
              "\n",
              "    [theme=dark] .colab-df-convert:hover {\n",
              "      background-color: #434B5C;\n",
              "      box-shadow: 0px 1px 3px 1px rgba(0, 0, 0, 0.15);\n",
              "      filter: drop-shadow(0px 1px 2px rgba(0, 0, 0, 0.3));\n",
              "      fill: #FFFFFF;\n",
              "    }\n",
              "  </style>\n",
              "\n",
              "    <script>\n",
              "      const buttonEl =\n",
              "        document.querySelector('#df-5e384988-e743-4aad-8b0f-fe4b6bd330f0 button.colab-df-convert');\n",
              "      buttonEl.style.display =\n",
              "        google.colab.kernel.accessAllowed ? 'block' : 'none';\n",
              "\n",
              "      async function convertToInteractive(key) {\n",
              "        const element = document.querySelector('#df-5e384988-e743-4aad-8b0f-fe4b6bd330f0');\n",
              "        const dataTable =\n",
              "          await google.colab.kernel.invokeFunction('convertToInteractive',\n",
              "                                                    [key], {});\n",
              "        if (!dataTable) return;\n",
              "\n",
              "        const docLinkHtml = 'Like what you see? Visit the ' +\n",
              "          '<a target=\"_blank\" href=https://colab.research.google.com/notebooks/data_table.ipynb>data table notebook</a>'\n",
              "          + ' to learn more about interactive tables.';\n",
              "        element.innerHTML = '';\n",
              "        dataTable['output_type'] = 'display_data';\n",
              "        await google.colab.output.renderOutput(dataTable, element);\n",
              "        const docLink = document.createElement('div');\n",
              "        docLink.innerHTML = docLinkHtml;\n",
              "        element.appendChild(docLink);\n",
              "      }\n",
              "    </script>\n",
              "  </div>\n",
              "\n",
              "\n",
              "<div id=\"df-0699f574-d66a-4488-89b4-040b25c2e620\">\n",
              "  <button class=\"colab-df-quickchart\" onclick=\"quickchart('df-0699f574-d66a-4488-89b4-040b25c2e620')\"\n",
              "            title=\"Suggest charts\"\n",
              "            style=\"display:none;\">\n",
              "\n",
              "<svg xmlns=\"http://www.w3.org/2000/svg\" height=\"24px\"viewBox=\"0 0 24 24\"\n",
              "     width=\"24px\">\n",
              "    <g>\n",
              "        <path d=\"M19 3H5c-1.1 0-2 .9-2 2v14c0 1.1.9 2 2 2h14c1.1 0 2-.9 2-2V5c0-1.1-.9-2-2-2zM9 17H7v-7h2v7zm4 0h-2V7h2v10zm4 0h-2v-4h2v4z\"/>\n",
              "    </g>\n",
              "</svg>\n",
              "  </button>\n",
              "\n",
              "<style>\n",
              "  .colab-df-quickchart {\n",
              "      --bg-color: #E8F0FE;\n",
              "      --fill-color: #1967D2;\n",
              "      --hover-bg-color: #E2EBFA;\n",
              "      --hover-fill-color: #174EA6;\n",
              "      --disabled-fill-color: #AAA;\n",
              "      --disabled-bg-color: #DDD;\n",
              "  }\n",
              "\n",
              "  [theme=dark] .colab-df-quickchart {\n",
              "      --bg-color: #3B4455;\n",
              "      --fill-color: #D2E3FC;\n",
              "      --hover-bg-color: #434B5C;\n",
              "      --hover-fill-color: #FFFFFF;\n",
              "      --disabled-bg-color: #3B4455;\n",
              "      --disabled-fill-color: #666;\n",
              "  }\n",
              "\n",
              "  .colab-df-quickchart {\n",
              "    background-color: var(--bg-color);\n",
              "    border: none;\n",
              "    border-radius: 50%;\n",
              "    cursor: pointer;\n",
              "    display: none;\n",
              "    fill: var(--fill-color);\n",
              "    height: 32px;\n",
              "    padding: 0;\n",
              "    width: 32px;\n",
              "  }\n",
              "\n",
              "  .colab-df-quickchart:hover {\n",
              "    background-color: var(--hover-bg-color);\n",
              "    box-shadow: 0 1px 2px rgba(60, 64, 67, 0.3), 0 1px 3px 1px rgba(60, 64, 67, 0.15);\n",
              "    fill: var(--button-hover-fill-color);\n",
              "  }\n",
              "\n",
              "  .colab-df-quickchart-complete:disabled,\n",
              "  .colab-df-quickchart-complete:disabled:hover {\n",
              "    background-color: var(--disabled-bg-color);\n",
              "    fill: var(--disabled-fill-color);\n",
              "    box-shadow: none;\n",
              "  }\n",
              "\n",
              "  .colab-df-spinner {\n",
              "    border: 2px solid var(--fill-color);\n",
              "    border-color: transparent;\n",
              "    border-bottom-color: var(--fill-color);\n",
              "    animation:\n",
              "      spin 1s steps(1) infinite;\n",
              "  }\n",
              "\n",
              "  @keyframes spin {\n",
              "    0% {\n",
              "      border-color: transparent;\n",
              "      border-bottom-color: var(--fill-color);\n",
              "      border-left-color: var(--fill-color);\n",
              "    }\n",
              "    20% {\n",
              "      border-color: transparent;\n",
              "      border-left-color: var(--fill-color);\n",
              "      border-top-color: var(--fill-color);\n",
              "    }\n",
              "    30% {\n",
              "      border-color: transparent;\n",
              "      border-left-color: var(--fill-color);\n",
              "      border-top-color: var(--fill-color);\n",
              "      border-right-color: var(--fill-color);\n",
              "    }\n",
              "    40% {\n",
              "      border-color: transparent;\n",
              "      border-right-color: var(--fill-color);\n",
              "      border-top-color: var(--fill-color);\n",
              "    }\n",
              "    60% {\n",
              "      border-color: transparent;\n",
              "      border-right-color: var(--fill-color);\n",
              "    }\n",
              "    80% {\n",
              "      border-color: transparent;\n",
              "      border-right-color: var(--fill-color);\n",
              "      border-bottom-color: var(--fill-color);\n",
              "    }\n",
              "    90% {\n",
              "      border-color: transparent;\n",
              "      border-bottom-color: var(--fill-color);\n",
              "    }\n",
              "  }\n",
              "</style>\n",
              "\n",
              "  <script>\n",
              "    async function quickchart(key) {\n",
              "      const quickchartButtonEl =\n",
              "        document.querySelector('#' + key + ' button');\n",
              "      quickchartButtonEl.disabled = true;  // To prevent multiple clicks.\n",
              "      quickchartButtonEl.classList.add('colab-df-spinner');\n",
              "      try {\n",
              "        const charts = await google.colab.kernel.invokeFunction(\n",
              "            'suggestCharts', [key], {});\n",
              "      } catch (error) {\n",
              "        console.error('Error during call to suggestCharts:', error);\n",
              "      }\n",
              "      quickchartButtonEl.classList.remove('colab-df-spinner');\n",
              "      quickchartButtonEl.classList.add('colab-df-quickchart-complete');\n",
              "    }\n",
              "    (() => {\n",
              "      let quickchartButtonEl =\n",
              "        document.querySelector('#df-0699f574-d66a-4488-89b4-040b25c2e620 button');\n",
              "      quickchartButtonEl.style.display =\n",
              "        google.colab.kernel.accessAllowed ? 'block' : 'none';\n",
              "    })();\n",
              "  </script>\n",
              "</div>\n",
              "    </div>\n",
              "  </div>\n"
            ]
          },
          "metadata": {},
          "execution_count": 67
        }
      ],
      "source": [
        "def traitement(df):\n",
        "    df['date_published']=pd.to_datetime(df['date_published'])\n",
        "    df['duration']=df['duration'].apply(convert_to_seconds)\n",
        "    df['Vues']=df['Vues'].apply(convert_number_count)\n",
        "    df['Likes']=df['Likes'].apply(convert_number_count)\n",
        "    df['comment_number']=df['comment_number'].apply(convert_number_count)\n",
        "    df['comments'].fillna('', inplace=True)\n",
        "    df['comments'] = df['comments'].apply(lambda x: str(x) if type(x) != str else x)\n",
        "    df['cleaned_comments']=df['comments'].apply(nettoyer_commentaires)\n",
        "    df['title_cleaned'] = df['title'].apply(remove_hashtags)\n",
        "    return df\n",
        "\n",
        "df_twitter_cleaned=traitement(df_twitter)\n",
        "df_twitter_cleaned\n"
      ]
    },
    {
      "cell_type": "code",
      "execution_count": 34,
      "metadata": {
        "id": "2YHknib4pFkD"
      },
      "outputs": [],
      "source": [
        "import pandas as pd\n",
        "import numpy as np\n",
        "\n",
        "# Fonction pour convertir HH:MM:SS ou MM:SS en secondes\n",
        "def convert_to_seconds(time_str):\n",
        "    if pd.isna(time_str):\n",
        "        return np.nan\n",
        "\n",
        "    time_components = time_str.split(':')\n",
        "\n",
        "    try:\n",
        "        # S'il n'y a que des minutes et des secondes (MM:SS)\n",
        "        if len(time_components) == 2:\n",
        "            m, s = map(int, time_components)\n",
        "            return m * 60 + s\n",
        "        # S'il y a des heures, des minutes et des secondes (HH:MM:SS)\n",
        "        elif len(time_components) == 3:\n",
        "            h, m, s = map(int, time_components)\n",
        "            return h * 3600 + m * 60 + s\n",
        "        else:\n",
        "            return np.nan\n",
        "    except ValueError:\n",
        "        # Gérer les cas où les valeurs ne peuvent pas être converties en entiers\n",
        "        return np.nan\n",
        "\n",
        "# df_facebook['duration']=df_facebook['duration'].apply(convert_to_seconds)\n",
        "# df_facebook['duration']"
      ]
    },
    {
      "cell_type": "code",
      "execution_count": 64,
      "metadata": {
        "id": "58Kwl3KVpFkE"
      },
      "outputs": [],
      "source": [
        "\n",
        "def convert_number_count(number):\n",
        "    # Convert 'k' to thousand and 'm' to million\n",
        "    if isinstance(number, int):\n",
        "      return number\n",
        "    multiplier = 1\n",
        "    if 'k' in number:\n",
        "        multiplier = 1000\n",
        "        number = number.replace('k', '')\n",
        "    elif 'm' in number:\n",
        "        multiplier = 1000000\n",
        "        number = number.replace('m', '')\n",
        "\n",
        "    # Convert the string to an integer\n",
        "    try:\n",
        "        number = int(float(number) * multiplier)\n",
        "        return number\n",
        "    except ValueError:\n",
        "        return number\n",
        "\n"
      ]
    },
    {
      "cell_type": "code",
      "execution_count": 37,
      "metadata": {
        "colab": {
          "base_uri": "https://localhost:8080/"
        },
        "id": "bxu6zuP-pFkF",
        "outputId": "6d1676d4-f723-4594-915b-91b3f4b816de"
      },
      "outputs": [
        {
          "output_type": "stream",
          "name": "stdout",
          "text": [
            "نعم فهو مسلم متمسك بعقيدته وليس كبعض الأعراب\n",
            "ابعثو لابى عبيده كلمة حلم ليبعث لكم شوي رجوله التطبيع سببه خوف الحكام من شعوبهم مااسترجلتم ماخليتو الاحرار تعيش احرار\n",
            "//////////\n",
            "فهو مسلم متمسك بعقيدته وليس كبعض الأعراب ابعثو لابى عبيده كلمة حلم ليبعث شوي رجوله التطبيع سببه خوف الحكام شعوبهم مااسترجلتم ماخليتو الاحرار تعيش احرار\n"
          ]
        },
        {
          "output_type": "stream",
          "name": "stderr",
          "text": [
            "[nltk_data] Downloading package punkt to /root/nltk_data...\n",
            "[nltk_data]   Package punkt is already up-to-date!\n",
            "[nltk_data] Downloading package stopwords to /root/nltk_data...\n",
            "[nltk_data]   Package stopwords is already up-to-date!\n"
          ]
        }
      ],
      "source": [
        "import pandas as pd\n",
        "from nltk.tokenize import word_tokenize\n",
        "from nltk.probability import FreqDist\n",
        "from nltk.corpus import stopwords\n",
        "import nltk\n",
        "nltk.download('punkt')\n",
        "nltk.download('stopwords')\n",
        "def nettoyer_commentaires(commentaire):\n",
        "    # Tokenisation des mots\n",
        "    mots = word_tokenize(commentaire)\n",
        "\n",
        "    # Liste des stop words en français, anglais et arabe\n",
        "    stop_words_fr = set(stopwords.words('french'))\n",
        "    stop_words_en = set(stopwords.words('english'))\n",
        "    stop_words_ar = set(stopwords.words('arabic'))\n",
        "\n",
        "    # Mots supplémentaires à exclure\n",
        "    mots_a_exclure = {'voir', 'plus'}  # Ajoutez d'autres mots si nécessaire\n",
        "\n",
        "    # Suppression des mots de liaison, des stop words et des mots spécifiques\n",
        "    mots_nettoyes = [mot.lower() for mot in mots if mot.isalpha() and mot.lower() not in stop_words_fr and mot.lower() not in stop_words_en and mot.lower() not in stop_words_ar and mot.lower() not in mots_a_exclure]\n",
        "\n",
        "\n",
        "\n",
        "    # Reconstruction du commentaire nettoyé\n",
        "    commentaire_nettoye = ' '.join(mots_nettoyes)\n",
        "\n",
        "    return commentaire_nettoye\n",
        "# print(df_facebook['comments'][33])\n",
        "# df_facebook['comments'].fillna('', inplace=True)\n",
        "# print('//////////')\n",
        "# # Convert non-string values to strings\n",
        "# df_facebook['comments'] = df_facebook['comments'].apply(lambda x: str(x) if type(x) != str else x)\n",
        "# df_facebook['comments']=df_facebook['comments'].apply(nettoyer_commentaires)\n",
        "# print(df_facebook['comments'][33])\n"
      ]
    },
    {
      "cell_type": "code",
      "execution_count": 39,
      "metadata": {
        "colab": {
          "base_uri": "https://localhost:8080/"
        },
        "id": "cx0lpDFWpFkF",
        "outputId": "49988cea-2610-4788-8801-b72c4689f382"
      },
      "outputs": [
        {
          "output_type": "stream",
          "name": "stdout",
          "text": [
            "متظاهرون أمام البيت الأبيض يدعون بايدن لإيقاف إطلاق النار في غزة\n",
            "\n",
            "#احتجاج #البيت_الأبيض #إيقاف_إطلاق_النار #غزة\n",
            "//////\n",
            "متظاهرون أمام البيت الأبيض يدعون بايدن لإيقاف إطلاق النار في غزة\n",
            "\n",
            "   \n"
          ]
        }
      ],
      "source": [
        "import pandas as pd\n",
        "import re\n",
        "\n",
        "\n",
        "# Function to remove hashtags\n",
        "def remove_hashtags(text):\n",
        "    return re.sub(r'#\\w+', '', text)\n",
        "\n",
        "# Apply the function to the 'title' column\n",
        "# print(df_twitter['title'][0])\n",
        "# print(\"//////\")\n",
        "# df_twitter['title_cleaned'] = df_twitter['title'].apply(remove_hashtags)\n",
        "# print(df_twitter['title_cleaned'][0])\n",
        "\n"
      ]
    },
    {
      "cell_type": "code",
      "source": [],
      "metadata": {
        "id": "eSl3O_CdvhKJ"
      },
      "execution_count": null,
      "outputs": []
    }
  ],
  "metadata": {
    "kernelspec": {
      "display_name": "Python 3",
      "language": "python",
      "name": "python3"
    },
    "language_info": {
      "codemirror_mode": {
        "name": "ipython",
        "version": 3
      },
      "file_extension": ".py",
      "mimetype": "text/x-python",
      "name": "python",
      "nbconvert_exporter": "python",
      "pygments_lexer": "ipython3",
      "version": "3.12.0"
    },
    "colab": {
      "provenance": []
    }
  },
  "nbformat": 4,
  "nbformat_minor": 0
}